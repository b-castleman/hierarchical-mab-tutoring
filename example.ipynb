{
 "cells": [
  {
   "cell_type": "markdown",
   "id": "93a18c09",
   "metadata": {},
   "source": [
    "# Running the hierarchical MAB intelligent tutor:"
   ]
  },
  {
   "cell_type": "code",
   "execution_count": 72,
   "id": "b412d283-a12a-4d00-9dba-e70301de2305",
   "metadata": {},
   "outputs": [],
   "source": [
    "from hierarchical_progression_algorithm.Joint_Progression_Algorithm import Joint_Progression_Algorithm"
   ]
  },
  {
   "cell_type": "code",
   "execution_count": 73,
   "id": "9272e135",
   "metadata": {},
   "outputs": [],
   "source": [
    "# Set up for obtaining questions from json file\n",
    "import json\n",
    "with open('./hierarchical_progression_algorithm/instructor_data/problems.json') as json_file:\n",
    "     problemsDict = json.load(json_file)\n",
    "        \n",
    "def getQuestionInfo(curConceptName,curQuestionId):\n",
    "    curConcept = problemsDict[curConceptName]\n",
    "    \n",
    "    for problem in curConcept:\n",
    "        if problem[\"id\"] == curQuestionId:\n",
    "            print(f\"Question: {problem['question']}\")\n",
    "            print(\"Choices:\")\n",
    "            for idx, choice in enumerate(problem['choices']):\n",
    "                print(f\"{idx+1}: {choice}\")\n",
    "    \n",
    "    raise Exception(\"Invalid question id\")"
   ]
  },
  {
   "cell_type": "code",
   "execution_count": 74,
   "id": "7c74033a-dd11-4d17-ac88-ee7ef57d0966",
   "metadata": {},
   "outputs": [],
   "source": [
    "# Initializing algorithm:\n",
    "jpa = Joint_Progression_Algorithm(\"search\")"
   ]
  },
  {
   "cell_type": "code",
   "execution_count": 75,
   "id": "2beff3c1-34ce-4127-8b77-e5de30c391f7",
   "metadata": {},
   "outputs": [
    {
     "name": "stdout",
     "output_type": "stream",
     "text": [
      "The current question is \"0xc9ba0d496eeff116dd180a835067e580\" from concept \"search_definition\"\n"
     ]
    },
    {
     "ename": "Exception",
     "evalue": "Invalid question id",
     "output_type": "error",
     "traceback": [
      "\u001b[0;31m---------------------------------------------------------------------------\u001b[0m",
      "\u001b[0;31mException\u001b[0m                                 Traceback (most recent call last)",
      "Cell \u001b[0;32mIn [75], line 6\u001b[0m\n\u001b[1;32m      2\u001b[0m curConceptName, curQuestionId \u001b[38;5;241m=\u001b[39m jpa\u001b[38;5;241m.\u001b[39mgetCurrentQuestionId()\n\u001b[1;32m      4\u001b[0m \u001b[38;5;28mprint\u001b[39m(\u001b[38;5;124mf\u001b[39m\u001b[38;5;124m\"\u001b[39m\u001b[38;5;124mThe current question is \u001b[39m\u001b[38;5;130;01m\\\"\u001b[39;00m\u001b[38;5;132;01m{\u001b[39;00mcurQuestionId\u001b[38;5;132;01m}\u001b[39;00m\u001b[38;5;130;01m\\\"\u001b[39;00m\u001b[38;5;124m from concept \u001b[39m\u001b[38;5;130;01m\\\"\u001b[39;00m\u001b[38;5;132;01m{\u001b[39;00mcurConceptName\u001b[38;5;132;01m}\u001b[39;00m\u001b[38;5;130;01m\\\"\u001b[39;00m\u001b[38;5;124m\"\u001b[39m)\n\u001b[0;32m----> 6\u001b[0m getQuestionInfo(curConcept,curQuestionId)\n",
      "Cell \u001b[0;32mIn [73], line 16\u001b[0m, in \u001b[0;36mgetQuestionInfo\u001b[0;34m(curConceptName, curQuestionId)\u001b[0m\n\u001b[1;32m     13\u001b[0m         \u001b[38;5;28;01mfor\u001b[39;00m idx, choice \u001b[38;5;129;01min\u001b[39;00m \u001b[38;5;28menumerate\u001b[39m(problem[\u001b[38;5;124m'\u001b[39m\u001b[38;5;124mchoices\u001b[39m\u001b[38;5;124m'\u001b[39m]):\n\u001b[1;32m     14\u001b[0m             \u001b[38;5;28mprint\u001b[39m(\u001b[38;5;124mf\u001b[39m\u001b[38;5;124m\"\u001b[39m\u001b[38;5;132;01m{\u001b[39;00midx\u001b[38;5;241m+\u001b[39m\u001b[38;5;241m1\u001b[39m\u001b[38;5;132;01m}\u001b[39;00m\u001b[38;5;124m: \u001b[39m\u001b[38;5;132;01m{\u001b[39;00mchoice\u001b[38;5;132;01m}\u001b[39;00m\u001b[38;5;124m\"\u001b[39m)\n\u001b[0;32m---> 16\u001b[0m \u001b[38;5;28;01mraise\u001b[39;00m \u001b[38;5;167;01mException\u001b[39;00m(\u001b[38;5;124m\"\u001b[39m\u001b[38;5;124mInvalid question id\u001b[39m\u001b[38;5;124m\"\u001b[39m)\n",
      "\u001b[0;31mException\u001b[0m: Invalid question id"
     ]
    }
   ],
   "source": [
    "# Get question #1\n",
    "curConceptName, curQuestionId = jpa.getCurrentQuestionId()\n",
    "\n",
    "print(f\"The current question is \\\"{curQuestionId}\\\" from concept \\\"{curConceptName}\\\"\")\n",
    "\n",
    "getQuestionInfo(curConcept,curQuestionId)"
   ]
  },
  {
   "cell_type": "code",
   "execution_count": 60,
   "id": "5beea6ad-fb09-401f-a521-071eaa82df4e",
   "metadata": {},
   "outputs": [],
   "source": [
    "# Update question #1 based on student correctness\n",
    "jpa.updateStudentCorrectness(True)"
   ]
  },
  {
   "cell_type": "code",
   "execution_count": 61,
   "id": "f3621cd8-83a0-4526-bf91-8d246efcc388",
   "metadata": {},
   "outputs": [
    {
     "name": "stdout",
     "output_type": "stream",
     "text": [
      "The current question is \"0xaac30e3b7517d022fc89326eced81e6d\" from section \"simple_search\"\n"
     ]
    }
   ],
   "source": [
    "# Get question #2\n",
    "curConceptName, curQuestionId = jpa.getCurrentQuestionId()\n",
    "\n",
    "print(f\"The current question is \\\"{curQuestionId}\\\" from concept \\\"{curConceptName}\\\"\")\n",
    "\n",
    "getQuestionInfo(curConcept,curQuestionId)"
   ]
  },
  {
   "cell_type": "code",
   "execution_count": 62,
   "id": "31ced50b-d12b-4619-a9e4-1c6eda6d1d91",
   "metadata": {},
   "outputs": [],
   "source": [
    "jpa.updateStudentCorrectness(False)"
   ]
  },
  {
   "cell_type": "code",
   "execution_count": 63,
   "id": "3ac2b1e5-d603-46df-971d-a3fa821a4f66",
   "metadata": {},
   "outputs": [
    {
     "name": "stdout",
     "output_type": "stream",
     "text": [
      "The current question is \"0x28714b7eb2644ab61bab3474614441bf\" from section \"constraint_search\"\n"
     ]
    }
   ],
   "source": [
    "curConceptName, curQuestionId = jpa.getCurrentQuestionId()\n",
    "\n",
    "print(f\"The current question is \\\"{curQuestionId}\\\" from section \\\"{curConceptName}\\\"\")"
   ]
  },
  {
   "cell_type": "code",
   "execution_count": null,
   "id": "8338f1f2-46f5-49e8-b298-ddd671c60c2c",
   "metadata": {},
   "outputs": [],
   "source": []
  },
  {
   "cell_type": "code",
   "execution_count": null,
   "id": "67714fb2",
   "metadata": {},
   "outputs": [],
   "source": []
  },
  {
   "cell_type": "code",
   "execution_count": null,
   "id": "7b8c19bd",
   "metadata": {},
   "outputs": [],
   "source": []
  }
 ],
 "metadata": {
  "kernelspec": {
   "display_name": "Python 3 (ipykernel)",
   "language": "python",
   "name": "python3"
  },
  "language_info": {
   "codemirror_mode": {
    "name": "ipython",
    "version": 3
   },
   "file_extension": ".py",
   "mimetype": "text/x-python",
   "name": "python",
   "nbconvert_exporter": "python",
   "pygments_lexer": "ipython3",
   "version": "3.10.14"
  }
 },
 "nbformat": 4,
 "nbformat_minor": 5
}
