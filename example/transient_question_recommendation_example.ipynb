{
 "cells": [
  {
   "cell_type": "markdown",
   "id": "39eef3ce",
   "metadata": {},
   "source": [
    "# Running the hierarchical MAB intelligent tutor:"
   ]
  },
  {
   "cell_type": "code",
   "execution_count": 1,
   "id": "4fb7cc26",
   "metadata": {},
   "outputs": [],
   "source": [
    "# Set up for obtaining questions from json file\n",
    "import json\n",
    "import os\n",
    "os.chdir('..')\n",
    "\n",
    "with open('./hierarchical_progression_algorithm/instructor_data/problems.json') as json_file:\n",
    "     problemsDict = json.load(json_file)\n",
    "        \n",
    "def getQuestionInfo(curConceptName,curQuestionId):\n",
    "    curConcept = problemsDict[curConceptName]\n",
    "    \n",
    "    for problem in curConcept:\n",
    "        if problem[\"id\"] == curQuestionId:\n",
    "            print(f\"Question: {problem['question']}\")\n",
    "            print(\"Choices:\")\n",
    "            for idx, choice in enumerate(problem['choices']):\n",
    "                print(f\"{idx+1}: {choice}\")\n",
    "            return\n",
    "    \n",
    "    raise Exception(\"Invalid question id\")"
   ]
  },
  {
   "cell_type": "code",
   "execution_count": 2,
   "id": "7c74033a-dd11-4d17-ac88-ee7ef57d0966",
   "metadata": {},
   "outputs": [],
   "source": [
    "# Initializing algorithm:\n",
    "from hierarchical_progression_algorithm.Joint_Progression_Algorithm import Joint_Progression_Algorithm\n",
    "concept_tree_name = \"search\"\n",
    "jpa = Joint_Progression_Algorithm(concept_tree_name)"
   ]
  },
  {
   "cell_type": "code",
   "execution_count": 3,
   "id": "2beff3c1-34ce-4127-8b77-e5de30c391f7",
   "metadata": {},
   "outputs": [
    {
     "name": "stdout",
     "output_type": "stream",
     "text": [
      "The current question is \"0xc9ba0d496eeff116dd180a835067e580\" from concept \"search_definition\"\n",
      "Question: Search agents do which of the following?\n",
      "Choices:\n",
      "1: Considers impacts of actions on future states\n",
      "2: Always will yield a solution, even if it is suboptimal\n",
      "3: Identifies actions or series of actions that lead to goals\n",
      "4: Involve route finding and game move optimization\n"
     ]
    }
   ],
   "source": [
    "# Get question #1\n",
    "curConceptName, curQuestionId = jpa.getCurrentQuestionId()\n",
    "\n",
    "print(f\"The current question is \\\"{curQuestionId}\\\" from concept \\\"{curConceptName}\\\"\")\n",
    "\n",
    "getQuestionInfo(curConceptName,curQuestionId)"
   ]
  },
  {
   "cell_type": "code",
   "execution_count": 4,
   "id": "5beea6ad-fb09-401f-a521-071eaa82df4e",
   "metadata": {},
   "outputs": [],
   "source": [
    "# Update question #1 based on student correctness\n",
    "jpa.updateStudentCorrectness(True)"
   ]
  },
  {
   "cell_type": "code",
   "execution_count": 5,
   "id": "f3621cd8-83a0-4526-bf91-8d246efcc388",
   "metadata": {},
   "outputs": [
    {
     "name": "stdout",
     "output_type": "stream",
     "text": [
      "The current question is \"0x28714b7eb2644ab61bab3474614441bf\" from concept \"constraint_search\"\n",
      "Question: Constrained search problems:\n",
      "Choices:\n",
      "1: Involve finding the best possible solution compared to other possible solutions\n",
      "2: Involve finding any viable solution so long as it abides by constraining rules\n",
      "3: Often involves problems like Chess and Go\n",
      "4: Uses backtracking for runtime efficiency increases\n"
     ]
    }
   ],
   "source": [
    "# Get question #2\n",
    "curConceptName, curQuestionId = jpa.getCurrentQuestionId()\n",
    "\n",
    "print(f\"The current question is \\\"{curQuestionId}\\\" from concept \\\"{curConceptName}\\\"\")\n",
    "\n",
    "getQuestionInfo(curConceptName,curQuestionId)"
   ]
  },
  {
   "cell_type": "code",
   "execution_count": 6,
   "id": "31ced50b-d12b-4619-a9e4-1c6eda6d1d91",
   "metadata": {},
   "outputs": [],
   "source": [
    "# Update question #2 based on student correctness\n",
    "jpa.updateStudentCorrectness(False)"
   ]
  },
  {
   "cell_type": "code",
   "execution_count": 7,
   "id": "3ac2b1e5-d603-46df-971d-a3fa821a4f66",
   "metadata": {},
   "outputs": [
    {
     "name": "stdout",
     "output_type": "stream",
     "text": [
      "The current question is \"0x8c4d02e391ab474455239c594b265b98\" from concept \"simple_search\"\n",
      "Question: In simple search, which following statements are correct?\n",
      "Choices:\n",
      "1: A frontier is required to keep track of possible actions that can be made from the current state\n",
      "2: A frontier is required to keep track of the states that have already been visited\n",
      "3: Failure can occur before every possible solution is explored\n"
     ]
    }
   ],
   "source": [
    "# Get question #3\n",
    "curConceptName, curQuestionId = jpa.getCurrentQuestionId()\n",
    "\n",
    "print(f\"The current question is \\\"{curQuestionId}\\\" from concept \\\"{curConceptName}\\\"\")\n",
    "\n",
    "getQuestionInfo(curConceptName,curQuestionId)"
   ]
  },
  {
   "cell_type": "code",
   "execution_count": 8,
   "id": "b2722e01",
   "metadata": {},
   "outputs": [],
   "source": [
    "# Repeat until termination!"
   ]
  }
 ],
 "metadata": {
  "kernelspec": {
   "display_name": "Python 3 (ipykernel)",
   "language": "python",
   "name": "python3"
  },
  "language_info": {
   "codemirror_mode": {
    "name": "ipython",
    "version": 3
   },
   "file_extension": ".py",
   "mimetype": "text/x-python",
   "name": "python",
   "nbconvert_exporter": "python",
   "pygments_lexer": "ipython3",
   "version": "3.10.14"
  }
 },
 "nbformat": 4,
 "nbformat_minor": 5
}
